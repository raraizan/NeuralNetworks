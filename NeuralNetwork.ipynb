{
 "cells": [
  {
   "cell_type": "code",
   "execution_count": 1,
   "metadata": {},
   "outputs": [],
   "source": [
    "# General imports and namespace configuration\n",
    "import random\n",
    "from pprint import pprint\n",
    "\n",
    "%matplotlib inline\n",
    "import matplotlib.pyplot as plt\n",
    "from matplotlib.animation import FuncAnimation\n",
    "import numpy\n",
    "\n",
    "from nn.activation_functions import *\n",
    "from nn.cost_funtions import *\n",
    "from nn.data_loader import load_data\n",
    "from nn.misc import categorize, get_category\n",
    "from nn import MultiLayeredPerceptron, NeuralNetwork\n",
    "\n",
    "DATASETS_PATH = 'datasets/'"
   ]
  },
  {
   "cell_type": "code",
   "execution_count": 2,
   "metadata": {},
   "outputs": [],
   "source": [
    "training_data, validation_data, test_data = load_data(DATASETS_PATH + 'mnist.pkl.gz')"
   ]
  },
  {
   "cell_type": "code",
   "execution_count": 3,
   "metadata": {
    "scrolled": false
   },
   "outputs": [
    {
     "data": {
      "image/png": "[encoded data removed]",
      "text/plain": [
       "<Figure size 432x288 with 1 Axes>"
      ]
     },
     "metadata": {
      "needs_background": "light"
     },
     "output_type": "display_data"
    }
   ],
   "source": [
    "plt.imshow(numpy.reshape(training_data[0][0], (28, 28)), cmap='gray')\n",
    "plt.show()"
   ]
  },
  {
   "cell_type": "markdown",
   "metadata": {},
   "source": [
    "### Categorize the tags"
   ]
  },
  {
   "cell_type": "code",
   "execution_count": 4,
   "metadata": {},
   "outputs": [],
   "source": [
    "def categorize_data(data):\n",
    "    categorized_data = []\n",
    "    for image_sample, tag in zip(data[0], data[1]):\n",
    "        flat_image = numpy.reshape(image_sample, (784,1))\n",
    "        category = categorize(tag)\n",
    "        categorized_data.append((flat_image, category))\n",
    "    return tuple(categorized_data)"
   ]
  },
  {
   "cell_type": "code",
   "execution_count": 5,
   "metadata": {},
   "outputs": [],
   "source": [
    "training_data_categorized = categorize_data(training_data)\n",
    "validation_data_categorized = categorize_data(validation_data)\n",
    "test_data_categorized = categorize_data(test_data)"
   ]
  },
  {
   "cell_type": "code",
   "execution_count": 8,
   "metadata": {},
   "outputs": [],
   "source": [
    "mlp = MultiLayeredPerceptron().create((784, 100, 10))"
   ]
  },
  {
   "cell_type": "code",
   "execution_count": 15,
   "metadata": {},
   "outputs": [
    {
     "data": {
      "text/plain": [
       "(array([[0.],\n",
       "        [1.],\n",
       "        [0.],\n",
       "        [0.],\n",
       "        [0.],\n",
       "        [1.],\n",
       "        [1.],\n",
       "        [0.],\n",
       "        [1.],\n",
       "        [1.]]), array([[0.],\n",
       "        [0.],\n",
       "        [0.],\n",
       "        [0.],\n",
       "        [0.],\n",
       "        [1.],\n",
       "        [0.],\n",
       "        [0.],\n",
       "        [0.],\n",
       "        [0.]]))"
      ]
     },
     "execution_count": 15,
     "metadata": {},
     "output_type": "execute_result"
    }
   ],
   "source": [
    "result = mlp.feedforward(training_data_categorized[0][0])\n",
    "result, training_data_categorized[0][1]"
   ]
  },
  {
   "cell_type": "markdown",
   "metadata": {},
   "source": [
    "### A continuous cost function"
   ]
  },
  {
   "cell_type": "markdown",
   "metadata": {},
   "source": [
    "## The sigmoid function\n",
    "\n",
    "$$ \\sigma(x) = \\frac{1}{1 + e^{-x}} $$"
   ]
  },
  {
   "cell_type": "code",
   "execution_count": 16,
   "metadata": {},
   "outputs": [
    {
     "data": {
      "image/png": "[encoded data removed]",
      "text/plain": [
       "<Figure size 360x360 with 1 Axes>"
      ]
     },
     "metadata": {
      "needs_background": "light"
     },
     "output_type": "display_data"
    }
   ],
   "source": [
    "x = numpy.linspace(-10, 10)\n",
    "fig = plt.figure(figsize=(5, 5))\n",
    "ax = fig.add_subplot(111)\n",
    "ax.plot(x, sigmoid(x), 'k')\n",
    "# ax.set_xlim(-2, 2)\n",
    "ax.set_ylim(-1.5, 2.5)\n",
    "ax.grid()\n",
    "# ax.set_aspect('equal')\n",
    "ax.set_title(\"Sigmoid fintion\")\n",
    "plt.show()"
   ]
  },
  {
   "cell_type": "code",
   "execution_count": 17,
   "metadata": {},
   "outputs": [
    {
     "data": {
      "text/plain": [
       "(array([[0.99878455],\n",
       "        [0.00570042],\n",
       "        [0.00126384],\n",
       "        [0.00407197],\n",
       "        [0.99965276],\n",
       "        [0.98292728],\n",
       "        [0.99897743],\n",
       "        [0.27159347],\n",
       "        [0.00104864],\n",
       "        [0.99997206]]), array([[0.],\n",
       "        [0.],\n",
       "        [0.],\n",
       "        [0.],\n",
       "        [0.],\n",
       "        [1.],\n",
       "        [0.],\n",
       "        [0.],\n",
       "        [0.],\n",
       "        [0.]]))"
      ]
     },
     "execution_count": 17,
     "metadata": {},
     "output_type": "execute_result"
    }
   ],
   "source": [
    "mlp = MultiLayeredPerceptron().create((784, 100, 10), activation_function='sigmoid')\n",
    "result = mlp.feedforward(training_data_categorized[0][0])\n",
    "result, training_data_categorized[0][1]"
   ]
  },
  {
   "cell_type": "code",
   "execution_count": 18,
   "metadata": {},
   "outputs": [],
   "source": [
    "def square_error(tagged_dataset, evaluation_funtion):\n",
    "    data_length = len(tagged_dataset)\n",
    "    error = 0\n",
    "    for sample, dataset_tag in tagged_dataset:\n",
    "        predicted_tag = evaluation_funtion(sample)\n",
    "        delta = dataset_tag - predicted_tag\n",
    "        error += delta.T.dot(delta)\n",
    "    return error / data_length"
   ]
  },
  {
   "cell_type": "code",
   "execution_count": 19,
   "metadata": {},
   "outputs": [
    {
     "data": {
      "text/plain": [
       "array([[5.13361655]])"
      ]
     },
     "execution_count": 19,
     "metadata": {},
     "output_type": "execute_result"
    }
   ],
   "source": [
    "square_error(training_data_categorized, mlp.feedforward)"
   ]
  },
  {
   "cell_type": "markdown",
   "metadata": {},
   "source": [
    "### Gradient descent\n",
    "![gradient descent](https://blog.paperspace.com/content/images/2018/05/68747470733a2f2f707669676965722e6769746875622e696f2f6d656469612f696d672f70617274312f6772616469656e745f64657363656e742e676966.gif)\n",
    "Let $f(\\vec{x})$ be a continuous function from $R^n \\to R$\n",
    "\n",
    "$$ \\vec{x}_{i+1} = \\vec{x}_{i} - \\eta \\cdot \\nabla f(\\vec{x}_{i}) $$\n",
    "$$ \\nabla f(\\vec{x}) = \\frac{\\partial \\vec{x}}{\\partial x_i} $$"
   ]
  },
  {
   "cell_type": "markdown",
   "metadata": {},
   "source": [
    "### Stochastic gradient descent\n",
    "![stochastic gradient descent](https://blog.paperspace.com/content/images/2018/05/fastlr.png)\n",
    "\n",
    "$$ \\vec{x}_{i+1} \\approx \\vec{x}_{i} - \\eta \\cdot \\nabla_{\\approx} f(\\vec{x}_{i}) $$\n"
   ]
  },
  {
   "cell_type": "raw",
   "metadata": {},
   "source": [
    "class NeuralNetwork(MultiLayeredPerceptron):\n",
    "    def train_model(self, training_data, epochs, mini_batch_size, eta, test_data=None):\n",
    "        pass"
   ]
  },
  {
   "cell_type": "code",
   "execution_count": 20,
   "metadata": {},
   "outputs": [],
   "source": [
    "neural_network = NeuralNetwork().create((784, 128, 10), activation_function='sigmoid')"
   ]
  },
  {
   "cell_type": "code",
   "execution_count": 21,
   "metadata": {},
   "outputs": [
    {
     "data": {
      "text/plain": [
       "array([[4.96951001e-01],\n",
       "       [9.99956663e-01],\n",
       "       [9.98363231e-01],\n",
       "       [3.51007949e-05],\n",
       "       [3.98429530e-06],\n",
       "       [4.05501988e-01],\n",
       "       [2.18515497e-02],\n",
       "       [9.99974608e-01],\n",
       "       [9.99982858e-01],\n",
       "       [9.98415636e-01]])"
      ]
     },
     "execution_count": 21,
     "metadata": {},
     "output_type": "execute_result"
    }
   ],
   "source": [
    "neural_network.feedforward(training_data_categorized[0][0])"
   ]
  },
  {
   "cell_type": "code",
   "execution_count": null,
   "metadata": {},
   "outputs": [
    {
     "name": "stdout",
     "output_type": "stream",
     "text": [
      "Epoch 0 : 55.13 accurate\n",
      "Epoch 1 : 63.99 accurate\n",
      "Epoch 2 : 65.15 accurate\n",
      "Epoch 3 : 65.68 accurate\n"
     ]
    }
   ],
   "source": [
    "neural_network.train_model(training_data_categorized, 30, 25, 1.0, test_data=validation_data_categorized)"
   ]
  }
 ],
 "metadata": {
  "kernelspec": {
   "display_name": "Python 3",
   "language": "python",
   "name": "python3"
  },
  "language_info": {
   "codemirror_mode": {
    "name": "ipython",
    "version": 3
   },
   "file_extension": ".py",
   "mimetype": "text/x-python",
   "name": "python",
   "nbconvert_exporter": "python",
   "pygments_lexer": "ipython3",
   "version": "3.6.8"
  }
 },
 "nbformat": 4,
 "nbformat_minor": 2
}
